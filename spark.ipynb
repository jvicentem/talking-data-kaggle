{
 "cells": [
  {
   "cell_type": "code",
   "execution_count": 1,
   "metadata": {},
   "outputs": [],
   "source": [
    "import findspark\n",
    "findspark.init() #Por defecto findspark mira en la variable de entorno del sistema SPARK_HOME"
   ]
  },
  {
   "cell_type": "code",
   "execution_count": 2,
   "metadata": {},
   "outputs": [],
   "source": [
    "%matplotlib inline\n",
    "import pyspark\n",
    "from pyspark import SparkContext, SparkConf\n",
    "from pyspark.sql import SparkSession\n",
    "from pyspark.sql.types import StructType, StructField, StringType, IntegerType, TimestampType, DoubleType\n",
    "from pyspark.sql import functions as F\n",
    "from pyspark.sql import Window as W\n",
    "import pandas as pd\n",
    "import seaborn as sns\n",
    "import numpy as np\n",
    "from pyspark.ml.clustering import KMeans\n",
    "from pyspark.ml.evaluation import ClusteringEvaluator\n",
    "from pyspark.ml.feature import VectorAssembler"
   ]
  },
  {
   "cell_type": "code",
   "execution_count": 3,
   "metadata": {},
   "outputs": [],
   "source": [
    "spark = (SparkSession.builder\n",
    "        .master('spark://driver-ip:7077')\n",
    "        .appName('kaggle_challenge')\n",
    "        .config(key = 'spark.driver.cores', value = '4')\n",
    "        .config(key = 'spark.driver.memory', value = '15G')\n",
    "        .config(key = 'spark.executor.memory', value = '3456M') \n",
    "        .config(key = 'spark.executor.cores', value = '1')\n",
    "        .config(key = 'spark.shuffle.service.enabled', value = 'true')\n",
    "        .config(key = 'spark.dynamicAllocation.enabled', value = 'true')\n",
    "        .config(key = 'spark.dynamicAllocation.minExecutors', value = '2')\n",
    "        .config(key = 'spark.dynamicAllocation.maxExecutors', value = '6')\n",
    "        .config(key = 'spark.network.timeout', value = '300s')\n",
    "        .config(key = 'spark.driver.maxResultSize', value = '14G')\n",
    "        .getOrCreate()\n",
    "       )\n",
    "#obtenemos el sparkcontext a partir del sparksession\n",
    "sc = spark.sparkContext"
   ]
  },
  {
   "cell_type": "markdown",
   "metadata": {},
   "source": [
    "En el worker con Windows el archivo está en la raíz del disco C (C:/) y en el driver y el otro worker (ambos Linux) están en la carpeta /C: (una carpeta llamada C: dentro del directorio raíz)"
   ]
  },
  {
   "cell_type": "code",
   "execution_count": 4,
   "metadata": {},
   "outputs": [],
   "source": [
    "# ip,app,device,os,channel,click_time,attributed_time,is_attributed\n",
    "\n",
    "train_df = spark.read.csv('file:/C:/train.csv', \n",
    "               header = True, \n",
    "               mode = 'DROPMALFORMED', \n",
    "               schema = StructType([StructField('ip', IntegerType()), \n",
    "                                    StructField('app', IntegerType()), \n",
    "                                    StructField('device', IntegerType()),\n",
    "                                    StructField('os', IntegerType()),\n",
    "                                    StructField('channel', IntegerType()),\n",
    "                                    StructField('click_time', TimestampType(), True),\n",
    "                                    StructField('attributed_time', TimestampType(), True),\n",
    "                                    StructField('is_attributed', IntegerType())\n",
    "                                   ]),\n",
    "               timestampFormat='yyyy-MM-dd HH:mm:ss'\n",
    "              )"
   ]
  },
  {
   "cell_type": "markdown",
   "metadata": {},
   "source": [
    "Notas:\n",
    "- ✓ Sacar variable que indique día de la semana \n",
    "- ✓ Observar cuántos dispositivos distintos hay asociados en una misma ip\n",
    "- ✓ Observar número de canales por app\n",
    "- ✓ Observar diferencia entre tiempo que pasa desde que se hace el primer click hasta que se convierte en attributed\n",
    "- ✓ Observar cuántas veces se hace click hasta que se convierte en attributed\n",
    "- ✓ Observar cuántas canales distintos tienen los usuarios (ip, device, os) que han convertido y cuántos los que no\n",
    "- ✓ Explorar las variables relativas a dispositivos (devices y os)\n",
    "- ✓ Sacar variable que indique la diferencia en minutos desde el primer click de un usuario concreto (ip, device, os) hasta ese click en concreto. Si el usuario convierte, entonces se resetea el contador de diferencia y el primero será el siguiente registro al convertido (ordenados por tiempo).\n",
    "- ✓ Sacar variable que indique número de clicks desde el primer click de un usuario concreto hasta ese click en ese momento. De la misma manera que el punto anterior, si convierte se resetea el contador y el primero pasa a ser el siguiente al convertido.\n",
    "- ✓ Sacar dos variables que cataloguen tanto a device como a os en distintas categorías en función de porcentaje de conversión que tienen (teniendo en cuenta el número de observaciones que constituyen, ver abajo).\n",
    "- ✓ Explorar horas y meses\n",
    "- ✓ Sacar variable de horas\n",
    "- ✓ Hacer con app y channel lo mismo que se ha hecho con device y os (score y cortarlas)"
   ]
  },
  {
   "cell_type": "markdown",
   "metadata": {},
   "source": [
    "#### Feature engineering"
   ]
  },
  {
   "cell_type": "code",
   "execution_count": 8,
   "metadata": {},
   "outputs": [
    {
     "data": {
      "text/plain": [
       "184903890"
      ]
     },
     "execution_count": 8,
     "metadata": {},
     "output_type": "execute_result"
    }
   ],
   "source": [
    "# train_df.count()"
   ]
  },
  {
   "cell_type": "markdown",
   "metadata": {},
   "source": [
    "Sacar variable que indique día de la semana"
   ]
  },
  {
   "cell_type": "code",
   "execution_count": 21,
   "metadata": {},
   "outputs": [
    {
     "name": "stdout",
     "output_type": "stream",
     "text": [
      "+------+---+------+---+-------+-------------------+---------------+---------------+--------------------+-------------+\n",
      "|ip    |app|device|os |channel|click_time         |click_time_wday|attributed_time|attributed_time_wday|is_attributed|\n",
      "+------+---+------+---+-------+-------------------+---------------+---------------+--------------------+-------------+\n",
      "|83230 |3  |1     |13 |379    |2017-11-06 14:32:21|Mon            |null           |null                |0            |\n",
      "|17357 |3  |1     |19 |379    |2017-11-06 14:33:34|Mon            |null           |null                |0            |\n",
      "|35810 |3  |1     |13 |379    |2017-11-06 14:34:12|Mon            |null           |null                |0            |\n",
      "|45745 |14 |1     |13 |478    |2017-11-06 14:34:52|Mon            |null           |null                |0            |\n",
      "|161007|3  |1     |13 |379    |2017-11-06 14:35:08|Mon            |null           |null                |0            |\n",
      "|18787 |3  |1     |16 |379    |2017-11-06 14:36:26|Mon            |null           |null                |0            |\n",
      "|103022|3  |1     |23 |379    |2017-11-06 14:37:44|Mon            |null           |null                |0            |\n",
      "|114221|3  |1     |19 |379    |2017-11-06 14:37:59|Mon            |null           |null                |0            |\n",
      "|165970|3  |1     |13 |379    |2017-11-06 14:38:10|Mon            |null           |null                |0            |\n",
      "|74544 |64 |1     |22 |459    |2017-11-06 14:38:23|Mon            |null           |null                |0            |\n",
      "+------+---+------+---+-------+-------------------+---------------+---------------+--------------------+-------------+\n",
      "only showing top 10 rows\n",
      "\n"
     ]
    }
   ],
   "source": [
    "train_df = train_df.select('ip', 'app', 'device' ,'os', 'channel', 'click_time', \n",
    "                F.date_format('click_time', 'E').alias('click_time_wday'), \n",
    "                'attributed_time', F.date_format('attributed_time', 'E').alias('attributed_time_wday'), \n",
    "                'is_attributed')\n",
    "\n",
    "train_df.persist(pyspark.StorageLevel.MEMORY_AND_DISK_SER)\n",
    "\n",
    "train_df.show(n = 10, truncate = False)"
   ]
  },
  {
   "cell_type": "markdown",
   "metadata": {},
   "source": [
    "Sacar variable que indique la hora"
   ]
  },
  {
   "cell_type": "code",
   "execution_count": 45,
   "metadata": {},
   "outputs": [
    {
     "name": "stdout",
     "output_type": "stream",
     "text": [
      "+------+---+------+---+-------+-------------------+---------------+---------------+--------------------+-------------+-----------------+-------------------+------+----------+---------------+\n",
      "|device|os |ip    |app|channel|click_time         |click_time_wday|attributed_time|attributed_time_wday|is_attributed|n_previous_clicks|click_time_diff    |os_cat|device_cat|click_time_hour|\n",
      "+------+---+------+---+-------+-------------------+---------------+---------------+--------------------+-------------+-----------------+-------------------+------+----------+---------------+\n",
      "|148   |29 |100141|19 |213    |2017-11-09 08:36:34|Thu            |null           |null                |0            |0                |0.0                |F     |J         |8              |\n",
      "|148   |29 |91006 |19 |282    |2017-11-08 17:27:29|Wed            |null           |null                |0            |0                |0.0                |F     |J         |17             |\n",
      "|148   |29 |58891 |83 |320    |2017-11-09 00:25:45|Thu            |null           |null                |0            |0                |0.0                |F     |J         |0              |\n",
      "|148   |29 |82718 |19 |213    |2017-11-09 10:40:27|Thu            |null           |null                |0            |0                |0.0                |F     |J         |10             |\n",
      "|148   |29 |36185 |83 |320    |2017-11-07 10:50:12|Tue            |null           |null                |0            |0                |0.0                |F     |J         |10             |\n",
      "|148   |29 |22227 |83 |320    |2017-11-07 10:48:41|Tue            |null           |null                |0            |0                |0.0                |F     |J         |10             |\n",
      "|148   |29 |22227 |83 |320    |2017-11-07 10:48:45|Tue            |null           |null                |0            |1                |0.06666666666666667|F     |J         |10             |\n",
      "|148   |29 |118252|19 |213    |2017-11-07 10:35:58|Tue            |null           |null                |0            |0                |0.0                |F     |J         |10             |\n",
      "|148   |29 |42333 |19 |213    |2017-11-09 00:09:27|Thu            |null           |null                |0            |0                |0.0                |F     |J         |0              |\n",
      "|148   |29 |228618|83 |320    |2017-11-08 07:39:57|Wed            |null           |null                |0            |0                |0.0                |F     |J         |7              |\n",
      "+------+---+------+---+-------+-------------------+---------------+---------------+--------------------+-------------+-----------------+-------------------+------+----------+---------------+\n",
      "only showing top 10 rows\n",
      "\n"
     ]
    }
   ],
   "source": [
    "train_df = train_df.withColumn('click_time_hour', F.date_format('click_time', 'H'))            \n",
    "\n",
    "train_df.persist(pyspark.StorageLevel.MEMORY_AND_DISK_SER)\n",
    "\n",
    "train_df.show(n = 10, truncate = False)"
   ]
  },
  {
   "cell_type": "markdown",
   "metadata": {},
   "source": [
    "### Observar cuántos registros tiene cada ip"
   ]
  },
  {
   "cell_type": "code",
   "execution_count": 20,
   "metadata": {},
   "outputs": [
    {
     "data": {
      "text/plain": [
       "DataFrame[ip: int, count: bigint]"
      ]
     },
     "execution_count": 20,
     "metadata": {},
     "output_type": "execute_result"
    }
   ],
   "source": [
    "ip_counts = train_df.select('ip').groupBy('ip').count()\n",
    "\n",
    "ip_counts.persist(pyspark.StorageLevel.MEMORY_AND_DISK_SER)"
   ]
  },
  {
   "cell_type": "code",
   "execution_count": 21,
   "metadata": {},
   "outputs": [
    {
     "name": "stdout",
     "output_type": "stream",
     "text": [
      "+-------+-----------------+\n",
      "|summary|count            |\n",
      "+-------+-----------------+\n",
      "|count  |277396           |\n",
      "|mean   |666.570137997664 |\n",
      "|stddev |5446.831261798024|\n",
      "|min    |1                |\n",
      "|max    |1238734          |\n",
      "+-------+-----------------+\n",
      "\n"
     ]
    }
   ],
   "source": [
    "ip_counts.describe('count').show(truncate = False)"
   ]
  },
  {
   "cell_type": "code",
   "execution_count": 22,
   "metadata": {},
   "outputs": [
    {
     "data": {
      "text/plain": [
       "[30237.0]"
      ]
     },
     "execution_count": 22,
     "metadata": {},
     "output_type": "execute_result"
    }
   ],
   "source": [
    "# Mediana\n",
    "ip_counts.approxQuantile(col = 'count', probabilities = [0.5], relativeError = 0.25)"
   ]
  },
  {
   "cell_type": "code",
   "execution_count": 23,
   "metadata": {},
   "outputs": [
    {
     "data": {
      "text/plain": [
       "DataFrame[ip: int, count: bigint]"
      ]
     },
     "execution_count": 23,
     "metadata": {},
     "output_type": "execute_result"
    }
   ],
   "source": [
    "ip_counts.unpersist()"
   ]
  },
  {
   "cell_type": "markdown",
   "metadata": {},
   "source": [
    "### Dispositivos asociados por IP"
   ]
  },
  {
   "cell_type": "code",
   "execution_count": 38,
   "metadata": {},
   "outputs": [
    {
     "data": {
      "text/plain": [
       "DataFrame[ip: int, count: bigint]"
      ]
     },
     "execution_count": 38,
     "metadata": {},
     "output_type": "execute_result"
    }
   ],
   "source": [
    "ip_devices_count = train_df.select('ip', 'device', 'os').distinct().groupBy('ip').count()\n",
    "\n",
    "ip_devices_count.persist(pyspark.StorageLevel.MEMORY_AND_DISK_SER)"
   ]
  },
  {
   "cell_type": "code",
   "execution_count": 39,
   "metadata": {},
   "outputs": [
    {
     "name": "stdout",
     "output_type": "stream",
     "text": [
      "+-------+------------------+\n",
      "|summary|count             |\n",
      "+-------+------------------+\n",
      "|count  |277396            |\n",
      "|mean   |12.069885650838513|\n",
      "|stddev |20.40543341143467 |\n",
      "|min    |1                 |\n",
      "|max    |772               |\n",
      "+-------+------------------+\n",
      "\n"
     ]
    }
   ],
   "source": [
    "ip_devices_count.describe('count').show(truncate = False)"
   ]
  },
  {
   "cell_type": "code",
   "execution_count": 40,
   "metadata": {},
   "outputs": [
    {
     "data": {
      "text/plain": [
       "[1.0, 198.0, 772.0]"
      ]
     },
     "execution_count": 40,
     "metadata": {},
     "output_type": "execute_result"
    }
   ],
   "source": [
    "# Mediana\n",
    "ip_devices_count.approxQuantile(col = 'count', probabilities = [0.25, 0.5, 0.75], relativeError = 0.25)"
   ]
  },
  {
   "cell_type": "markdown",
   "metadata": {},
   "source": [
    "Es raro que una misma IP tenga tantos dispositivos asociados. Además, tampoco podemos saber si una persona ha actualizado su movil a lo largo del tiempo (según nuestra consulta SQL, cuenta como varios dispositivos) o si realmente hay varios dispositivos con distinta versión de s.o.. De la misma manera, si varias personas conectadas a una misma IP tienen el mismo móvil y la misma versión de sistema operativo, según nuestra consulta cuenta como el mismo móvil.\n",
    "\n",
    "También, una IP puede cambiar a lo largo del tiempo, lo que dificulta aún más la interpretación de la consulta.\n",
    "\n",
    "Esta consulta nos puede dar una idea de cuántos dispositivos hay bajo una misma IP pero la reflexión anterior me hace pensar que es mejor no tener en cuenta esta consulta a efectos prácticos."
   ]
  },
  {
   "cell_type": "code",
   "execution_count": 41,
   "metadata": {},
   "outputs": [
    {
     "data": {
      "text/plain": [
       "DataFrame[ip: int, count: bigint]"
      ]
     },
     "execution_count": 41,
     "metadata": {},
     "output_type": "execute_result"
    }
   ],
   "source": [
    "ip_devices_count.unpersist()"
   ]
  },
  {
   "cell_type": "markdown",
   "metadata": {},
   "source": [
    "### Número de canales por app"
   ]
  },
  {
   "cell_type": "code",
   "execution_count": 34,
   "metadata": {},
   "outputs": [
    {
     "data": {
      "text/plain": [
       "DataFrame[app: int, count: bigint]"
      ]
     },
     "execution_count": 34,
     "metadata": {},
     "output_type": "execute_result"
    }
   ],
   "source": [
    "channels_per_app_count = (train_df.select('app', 'channel')\n",
    "                                  .distinct()\n",
    "                                  .groupBy('app')\n",
    "                                  .count())\n",
    "\n",
    "channels_per_app_count.persist(pyspark.StorageLevel.MEMORY_AND_DISK_SER)"
   ]
  },
  {
   "cell_type": "code",
   "execution_count": 35,
   "metadata": {},
   "outputs": [
    {
     "name": "stdout",
     "output_type": "stream",
     "text": [
      "+-------+-----------------+\n",
      "|summary|count            |\n",
      "+-------+-----------------+\n",
      "|count  |706              |\n",
      "|mean   |2.011331444759207|\n",
      "|stddev |4.052476582497506|\n",
      "|min    |1                |\n",
      "|max    |49               |\n",
      "+-------+-----------------+\n",
      "\n"
     ]
    }
   ],
   "source": [
    "channels_per_app_count.describe('count').show(truncate = False)"
   ]
  },
  {
   "cell_type": "code",
   "execution_count": 36,
   "metadata": {},
   "outputs": [
    {
     "data": {
      "text/plain": [
       "[1.0, 4.0, 49.0]"
      ]
     },
     "execution_count": 36,
     "metadata": {},
     "output_type": "execute_result"
    }
   ],
   "source": [
    "# Mediana\n",
    "channels_per_app_count.approxQuantile(col = 'count', probabilities = [0.25, 0.5, 0.75], relativeError = 0.25)"
   ]
  },
  {
   "cell_type": "code",
   "execution_count": null,
   "metadata": {},
   "outputs": [],
   "source": [
    "channels_per_app_count_pd = channels_per_app_count.toPandas()"
   ]
  },
  {
   "cell_type": "code",
   "execution_count": 49,
   "metadata": {},
   "outputs": [
    {
     "data": {
      "image/png": "[encoded data removed]",
      "text/plain": [
       "<matplotlib.figure.Figure at 0x7fb096821860>"
      ]
     },
     "metadata": {},
     "output_type": "display_data"
    }
   ],
   "source": [
    "sns.distplot(channels_per_app_count_pd['count'], kde=False, rug=False)\n",
    "\n",
    "sns.plt.show()"
   ]
  },
  {
   "cell_type": "code",
   "execution_count": 50,
   "metadata": {},
   "outputs": [
    {
     "data": {
      "image/png": "[encoded data removed]",
      "text/plain": [
       "<matplotlib.figure.Figure at 0x7fb0966d9a58>"
      ]
     },
     "metadata": {},
     "output_type": "display_data"
    }
   ],
   "source": [
    "sns.distplot(channels_per_app_count_pd['count'][channels_per_app_count_pd['count'] < 20], kde=False, rug=False)\n",
    "\n",
    "sns.plt.show()"
   ]
  },
  {
   "cell_type": "code",
   "execution_count": 51,
   "metadata": {},
   "outputs": [
    {
     "data": {
      "image/png": "[encoded data removed]",
      "text/plain": [
       "<matplotlib.figure.Figure at 0x7fb0965ada20>"
      ]
     },
     "metadata": {},
     "output_type": "display_data"
    }
   ],
   "source": [
    "sns.distplot(channels_per_app_count_pd['count'][channels_per_app_count_pd['count'] < 5], kde=False, rug=False)\n",
    "\n",
    "sns.plt.show()"
   ]
  },
  {
   "cell_type": "markdown",
   "metadata": {},
   "source": [
    "La gran mayoría de apps tienen sólo un canal, aunque como se ve hay excepciones en las que hay más de un canal (49 canales como máximo)"
   ]
  },
  {
   "cell_type": "code",
   "execution_count": 37,
   "metadata": {},
   "outputs": [
    {
     "data": {
      "text/plain": [
       "DataFrame[app: int, count: bigint]"
      ]
     },
     "execution_count": 37,
     "metadata": {},
     "output_type": "execute_result"
    }
   ],
   "source": [
    "channels_per_app_count.unpersist()"
   ]
  },
  {
   "cell_type": "markdown",
   "metadata": {},
   "source": [
    "### Observar cuántos canales distintos tienen los usuarios (ip, device, os) que han convertido y cuántos los que no"
   ]
  },
  {
   "cell_type": "markdown",
   "metadata": {},
   "source": [
    "1. Coger los registros con is_attributed == 1 y hacerle distinct\n",
    "2. Coger los regustros con is_attributed == 0 y hacerle distinct\n",
    "3. Join del punto 1 con el punto 2\n",
    "4. Hacer un distinct por usuario y channel\n",
    "5. groupBy usuario\n",
    "6. Hacer un count (se estará contando implicitamente el número de canales distintos por usuario)"
   ]
  },
  {
   "cell_type": "code",
   "execution_count": 7,
   "metadata": {},
   "outputs": [],
   "source": [
    "only_attributed = train_df.select('ip', 'device', 'os', 'channel', 'is_attributed').filter(train_df.is_attributed == 1).drop('is_attributed').distinct()\n",
    "only_not_attributed = train_df.select('ip', 'device', 'os', 'channel', 'is_attributed').filter(train_df.is_attributed == 0).drop('is_attributed').distinct()"
   ]
  },
  {
   "cell_type": "code",
   "execution_count": 10,
   "metadata": {},
   "outputs": [
    {
     "name": "stdout",
     "output_type": "stream",
     "text": [
      "+-------+-----------------+\n",
      "|summary|count            |\n",
      "+-------+-----------------+\n",
      "|count  |224909           |\n",
      "|mean   |46.10132542494965|\n",
      "|stddev |126.1820537984589|\n",
      "|min    |1                |\n",
      "|max    |9108             |\n",
      "+-------+-----------------+\n",
      "\n"
     ]
    }
   ],
   "source": [
    "joined = (only_attributed.join(only_not_attributed, \n",
    "                                ['ip', 'device', 'os'],\n",
    "                               'inner')\n",
    "                           .distinct())\n",
    "\n",
    "joined = joined.groupBy('ip', 'device', 'os').count()\n",
    "\n",
    "joined.persist(pyspark.StorageLevel.MEMORY_AND_DISK_SER)\n",
    "\n",
    "joined.describe('count').show(truncate = False)"
   ]
  },
  {
   "cell_type": "code",
   "execution_count": 11,
   "metadata": {},
   "outputs": [],
   "source": [
    "channels_per_attributed_user_pd = joined.toPandas()"
   ]
  },
  {
   "cell_type": "code",
   "execution_count": 17,
   "metadata": {},
   "outputs": [
    {
     "data": {
      "text/plain": [
       "5.0"
      ]
     },
     "execution_count": 17,
     "metadata": {},
     "output_type": "execute_result"
    }
   ],
   "source": [
    "# Mediana\n",
    "channels_per_attributed_user_pd['count'].median()"
   ]
  },
  {
   "cell_type": "code",
   "execution_count": 12,
   "metadata": {},
   "outputs": [
    {
     "data": {
      "image/png": "[encoded data removed]",
      "text/plain": [
       "<matplotlib.figure.Figure at 0x7f79d75808d0>"
      ]
     },
     "metadata": {},
     "output_type": "display_data"
    }
   ],
   "source": [
    "sns.distplot(channels_per_attributed_user_pd['count'], kde=False, rug=False)\n",
    "\n",
    "sns.plt.show()"
   ]
  },
  {
   "cell_type": "code",
   "execution_count": 24,
   "metadata": {},
   "outputs": [
    {
     "data": {
      "image/png": "[encoded data removed]",
      "text/plain": [
       "<matplotlib.figure.Figure at 0x7f79d66196a0>"
      ]
     },
     "metadata": {},
     "output_type": "display_data"
    }
   ],
   "source": [
    "sns.distplot(channels_per_attributed_user_pd['count'][channels_per_attributed_user_pd['count'] < 20], kde=False, rug=False)\n",
    "\n",
    "sns.plt.show()"
   ]
  },
  {
   "cell_type": "code",
   "execution_count": 18,
   "metadata": {},
   "outputs": [
    {
     "data": {
      "text/plain": [
       "DataFrame[ip: int, device: int, os: int, count: bigint]"
      ]
     },
     "execution_count": 18,
     "metadata": {},
     "output_type": "execute_result"
    }
   ],
   "source": [
    "joined.unpersist()"
   ]
  },
  {
   "cell_type": "markdown",
   "metadata": {},
   "source": [
    "Para los que no han convertido nunca el procedimiento sería similar pero asegurándose de que nunca ha convertido: para esto quizás sería interesante hacer una columna auxiliar que sume \"is_attributed\" para cada usuario: si es > 1, ha atribuido alguna vez y descartamos esos registros, si es == 0 estaremos seguros que nunca ha atribuido."
   ]
  },
  {
   "cell_type": "code",
   "execution_count": 39,
   "metadata": {},
   "outputs": [
    {
     "name": "stdout",
     "output_type": "stream",
     "text": [
      "+-------+------------------+\n",
      "|summary|count             |\n",
      "+-------+------------------+\n",
      "|count  |3204352           |\n",
      "|mean   |12.934064672046018|\n",
      "|stddev |18.533817876211582|\n",
      "|min    |1                 |\n",
      "|max    |142               |\n",
      "+-------+------------------+\n",
      "\n"
     ]
    }
   ],
   "source": [
    "w = W.partitionBy('ip', 'device', 'os').orderBy('is_attributed')\n",
    "never_attributed = (train_df.select('ip', 'device', 'os', 'channel', 'is_attributed')\n",
    "                            .withColumn('ever_attributed', F.sum('is_attributed').over(w)))\n",
    "never_attributed = (never_attributed.filter(never_attributed.ever_attributed == 0)                            \n",
    "                                    .drop('ever_attributed')\n",
    "                                    .drop('is_attributed')\n",
    "                                    .distinct()\n",
    "                                    .groupBy('ip', 'device', 'os')\n",
    "                                    .count())\n",
    "\n",
    "never_attributed.persist(pyspark.StorageLevel.MEMORY_AND_DISK_SER)\n",
    "\n",
    "never_attributed.describe('count').show(truncate = False)"
   ]
  },
  {
   "cell_type": "code",
   "execution_count": 40,
   "metadata": {},
   "outputs": [],
   "source": [
    "channels_per_not_attributed_user_pd = never_attributed.toPandas()"
   ]
  },
  {
   "cell_type": "code",
   "execution_count": 41,
   "metadata": {},
   "outputs": [
    {
     "data": {
      "text/plain": [
       "4.0"
      ]
     },
     "execution_count": 41,
     "metadata": {},
     "output_type": "execute_result"
    }
   ],
   "source": [
    "# Mediana\n",
    "channels_per_not_attributed_user_pd['count'].median()"
   ]
  },
  {
   "cell_type": "code",
   "execution_count": 42,
   "metadata": {},
   "outputs": [
    {
     "data": {
      "image/png": "[encoded data removed]",
      "text/plain": [
       "<matplotlib.figure.Figure at 0x7f79d63edc18>"
      ]
     },
     "metadata": {},
     "output_type": "display_data"
    }
   ],
   "source": [
    "sns.distplot(channels_per_not_attributed_user_pd['count'], kde=False, rug=False)\n",
    "\n",
    "sns.plt.show()"
   ]
  },
  {
   "cell_type": "code",
   "execution_count": 43,
   "metadata": {},
   "outputs": [
    {
     "data": {
      "image/png": "[encoded data removed]",
      "text/plain": [
       "<matplotlib.figure.Figure at 0x7f79d6371e80>"
      ]
     },
     "metadata": {},
     "output_type": "display_data"
    }
   ],
   "source": [
    "sns.distplot(channels_per_not_attributed_user_pd['count'][channels_per_not_attributed_user_pd['count'] < 80], kde=False, rug=False)\n",
    "\n",
    "sns.plt.show()"
   ]
  },
  {
   "cell_type": "code",
   "execution_count": 44,
   "metadata": {},
   "outputs": [
    {
     "data": {
      "image/png": "[encoded data removed]",
      "text/plain": [
       "<matplotlib.figure.Figure at 0x7f79d62eb908>"
      ]
     },
     "metadata": {},
     "output_type": "display_data"
    }
   ],
   "source": [
    "sns.distplot(channels_per_not_attributed_user_pd['count'][channels_per_not_attributed_user_pd['count'] < 40], kde=False, rug=False)\n",
    "\n",
    "sns.plt.show()"
   ]
  },
  {
   "cell_type": "code",
   "execution_count": null,
   "metadata": {},
   "outputs": [],
   "source": [
    "never_attributed.unpersist()"
   ]
  },
  {
   "cell_type": "code",
   "execution_count": 45,
   "metadata": {},
   "outputs": [],
   "source": [
    "channels_per_attributed_user_pd_cat = channels_per_attributed_user_pd.assign(is_attributed='yes')\n",
    "channels_per_not_attributed_user_pd_cat = channels_per_not_attributed_user_pd.assign(is_attributed='no')"
   ]
  },
  {
   "cell_type": "code",
   "execution_count": 46,
   "metadata": {},
   "outputs": [],
   "source": [
    "all_counted = pd.concat([channels_per_attributed_user_pd_cat, channels_per_not_attributed_user_pd_cat])"
   ]
  },
  {
   "cell_type": "code",
   "execution_count": 51,
   "metadata": {},
   "outputs": [
    {
     "data": {
      "image/png": "[encoded data removed]",
      "text/plain": [
       "<matplotlib.figure.Figure at 0x7f79c4110240>"
      ]
     },
     "metadata": {},
     "output_type": "display_data"
    }
   ],
   "source": [
    "sns.plt.figure(figsize=(20, 10))\n",
    "sns.boxplot(x='is_attributed', y='count', data=all_counted[all_counted['count'] <= 500])\n",
    "sns.plt.show()"
   ]
  },
  {
   "cell_type": "code",
   "execution_count": 52,
   "metadata": {},
   "outputs": [
    {
     "data": {
      "image/png": "[encoded data removed]",
      "text/plain": [
       "<matplotlib.figure.Figure at 0x7f79c40304a8>"
      ]
     },
     "metadata": {},
     "output_type": "display_data"
    }
   ],
   "source": [
    "sns.plt.figure(figsize=(20, 10))\n",
    "sns.boxplot(x='is_attributed', y='count', data=all_counted[all_counted['count'] <= 100])\n",
    "sns.plt.show()"
   ]
  },
  {
   "cell_type": "markdown",
   "metadata": {},
   "source": [
    "No parece haber diferencias visibles entre número de canales por los que se ha pasado y si se ha convertido o no."
   ]
  },
  {
   "cell_type": "markdown",
   "metadata": {},
   "source": [
    "### Observar diferencia entre tiempo que pasa desde que se hace el primer click hasta que se convierte en attributed"
   ]
  },
  {
   "cell_type": "code",
   "execution_count": 34,
   "metadata": {},
   "outputs": [
    {
     "name": "stdout",
     "output_type": "stream",
     "text": [
      "+------+------+---+---------------+---+-------+-------------------+---------------+---------------+--------------------+-------------+\n",
      "|ip    |device|os |ever_attributed|app|channel|click_time         |click_time_wday|attributed_time|attributed_time_wday|is_attributed|\n",
      "+------+------+---+---------------+---+-------+-------------------+---------------+---------------+--------------------+-------------+\n",
      "|83230 |1     |13 |8              |3  |379    |2017-11-06 14:32:21|Mon            |null           |null                |0            |\n",
      "|17357 |1     |19 |9              |3  |379    |2017-11-06 14:33:34|Mon            |null           |null                |0            |\n",
      "|35810 |1     |13 |2              |3  |379    |2017-11-06 14:34:12|Mon            |null           |null                |0            |\n",
      "|45745 |1     |13 |36             |14 |478    |2017-11-06 14:34:52|Mon            |null           |null                |0            |\n",
      "|161007|1     |13 |0              |3  |379    |2017-11-06 14:35:08|Mon            |null           |null                |0            |\n",
      "|18787 |1     |16 |0              |3  |379    |2017-11-06 14:36:26|Mon            |null           |null                |0            |\n",
      "|103022|1     |23 |0              |3  |379    |2017-11-06 14:37:44|Mon            |null           |null                |0            |\n",
      "|114221|1     |19 |1              |3  |379    |2017-11-06 14:37:59|Mon            |null           |null                |0            |\n",
      "|165970|1     |13 |0              |3  |379    |2017-11-06 14:38:10|Mon            |null           |null                |0            |\n",
      "|74544 |1     |22 |0              |64 |459    |2017-11-06 14:38:23|Mon            |null           |null                |0            |\n",
      "|172522|1     |25 |0              |3  |379    |2017-11-06 14:38:27|Mon            |null           |null                |0            |\n",
      "|105861|1     |13 |2              |3  |379    |2017-11-06 14:38:51|Mon            |null           |null                |0            |\n",
      "|210962|1     |19 |0              |3  |379    |2017-11-06 14:39:29|Mon            |null           |null                |0            |\n",
      "|124979|1     |18 |0              |3  |379    |2017-11-06 14:40:16|Mon            |null           |null                |0            |\n",
      "|38816 |1     |18 |0              |3  |379    |2017-11-06 14:40:39|Mon            |null           |null                |0            |\n",
      "|80447 |1     |19 |2              |3  |379    |2017-11-06 14:40:51|Mon            |null           |null                |0            |\n",
      "|134575|1     |13 |1              |3  |379    |2017-11-06 14:43:10|Mon            |null           |null                |0            |\n",
      "|57576 |1     |19 |0              |3  |379    |2017-11-06 14:43:14|Mon            |null           |null                |0            |\n",
      "|7755  |1     |13 |0              |3  |379    |2017-11-06 14:43:25|Mon            |null           |null                |0            |\n",
      "|91749 |1     |19 |3              |3  |379    |2017-11-06 14:43:51|Mon            |null           |null                |0            |\n",
      "+------+------+---+---------------+---+-------+-------------------+---------------+---------------+--------------------+-------------+\n",
      "only showing top 20 rows\n",
      "\n"
     ]
    }
   ],
   "source": [
    "ever_attributed = (train_df.select('ip', 'device', 'os', 'click_time', 'is_attributed')\n",
    "                           .groupBy('ip', 'device', 'os')\n",
    "                           .agg({'is_attributed': 'sum'})\n",
    "                           .withColumnRenamed('sum(is_attributed)', 'ever_attributed')\n",
    "                           .join(train_df, ['ip', 'device', 'os'], 'inner'))\n",
    "# Ahora me tengo que quedar con el primer registro del usuario (el más antiguo) y el primero de ese usuario que sea atributed, y luego hacer la diferencia \n",
    "#de fechas entre click_time y attributed_time\n",
    "\n",
    "ever_attributed.persist(pyspark.StorageLevel.MEMORY_AND_DISK_SER)\n",
    "\n",
    "ever_attributed.show(truncate = False)"
   ]
  },
  {
   "cell_type": "code",
   "execution_count": 43,
   "metadata": {},
   "outputs": [
    {
     "name": "stdout",
     "output_type": "stream",
     "text": [
      "+----+------+---+---------------+---+-------+-------------------+---------------+---------------+--------------------+-------------+\n",
      "|ip  |device|os |ever_attributed|app|channel|click_time         |click_time_wday|attributed_time|attributed_time_wday|is_attributed|\n",
      "+----+------+---+---------------+---+-------+-------------------+---------------+---------------+--------------------+-------------+\n",
      "|150 |1     |19 |1              |15 |245    |2017-11-06 16:35:22|Mon            |null           |null                |0            |\n",
      "|705 |1     |17 |1              |9  |244    |2017-11-06 18:24:29|Mon            |null           |null                |0            |\n",
      "|991 |1     |17 |1              |12 |328    |2017-11-06 17:03:07|Mon            |null           |null                |0            |\n",
      "|991 |1     |17 |1              |2  |212    |2017-11-06 17:03:07|Mon            |null           |null                |0            |\n",
      "|1012|1     |13 |1              |3  |442    |2017-11-06 16:01:03|Mon            |null           |null                |0            |\n",
      "|1070|1     |22 |1              |9  |134    |2017-11-07 00:33:27|Tue            |null           |null                |0            |\n",
      "|1070|1     |22 |1              |12 |178    |2017-11-07 00:33:27|Tue            |null           |null                |0            |\n",
      "|1070|1     |22 |1              |12 |178    |2017-11-07 00:33:27|Tue            |null           |null                |0            |\n",
      "|1074|0     |21 |3              |19 |347    |2017-11-06 23:39:04|Mon            |null           |null                |0            |\n",
      "|1117|1     |13 |4              |9  |134    |2017-11-06 16:00:24|Mon            |null           |null                |0            |\n",
      "|1117|1     |13 |4              |8  |145    |2017-11-06 16:00:24|Mon            |null           |null                |0            |\n",
      "|1117|1     |13 |4              |15 |140    |2017-11-06 16:00:24|Mon            |null           |null                |0            |\n",
      "|1117|1     |13 |4              |8  |145    |2017-11-06 16:00:24|Mon            |null           |null                |0            |\n",
      "|2128|1     |19 |1              |9  |244    |2017-11-06 16:45:33|Mon            |null           |null                |0            |\n",
      "|2187|937   |0  |1              |19 |213    |2017-11-08 21:35:20|Wed            |null           |null                |0            |\n",
      "|2293|0     |21 |1              |84 |101    |2017-11-08 13:27:03|Wed            |null           |null                |0            |\n",
      "|2382|1     |16 |1              |21 |128    |2017-11-06 16:25:21|Mon            |null           |null                |0            |\n",
      "|2531|0     |29 |1              |19 |213    |2017-11-08 04:08:09|Wed            |null           |null                |0            |\n",
      "|2640|1     |22 |1              |7  |101    |2017-11-09 05:35:24|Thu            |null           |null                |0            |\n",
      "|2640|1     |22 |1              |2  |237    |2017-11-09 05:35:24|Thu            |null           |null                |0            |\n",
      "+----+------+---+---------------+---+-------+-------------------+---------------+---------------+--------------------+-------------+\n",
      "only showing top 20 rows\n",
      "\n",
      "+----+------+---+---------------+---+-------+-------------------+---------------+-------------------+--------------------+-------------+\n",
      "|ip  |device|os |ever_attributed|app|channel|click_time         |click_time_wday|attributed_time    |attributed_time_wday|is_attributed|\n",
      "+----+------+---+---------------+---+-------+-------------------+---------------+-------------------+--------------------+-------------+\n",
      "|150 |1     |19 |1              |35 |274    |2017-11-07 10:51:13|Tue            |2017-11-07 12:00:59|Tue                 |1            |\n",
      "|705 |1     |17 |1              |9  |134    |2017-11-07 10:51:36|Tue            |2017-11-07 12:15:13|Tue                 |1            |\n",
      "|991 |1     |17 |1              |35 |274    |2017-11-09 03:03:18|Thu            |2017-11-09 04:19:52|Thu                 |1            |\n",
      "|1012|1     |13 |1              |62 |21     |2017-11-09 11:18:39|Thu            |2017-11-09 11:37:34|Thu                 |1            |\n",
      "|1070|1     |22 |1              |12 |259    |2017-11-09 03:27:32|Thu            |2017-11-09 07:57:37|Thu                 |1            |\n",
      "|1074|0     |21 |3              |19 |347    |2017-11-06 23:39:49|Mon            |2017-11-06 23:58:25|Mon                 |1            |\n",
      "|1117|1     |13 |4              |18 |107    |2017-11-07 07:07:15|Tue            |2017-11-07 07:24:50|Tue                 |1            |\n",
      "|1494|0     |38 |1              |19 |213    |2017-11-08 03:31:51|Wed            |2017-11-08 07:55:12|Wed                 |1            |\n",
      "|2128|1     |19 |1              |35 |21     |2017-11-09 02:40:25|Thu            |2017-11-09 02:56:27|Thu                 |1            |\n",
      "|2187|937   |0  |1              |19 |213    |2017-11-08 21:35:23|Wed            |2017-11-08 22:25:46|Wed                 |1            |\n",
      "|2228|40    |24 |1              |19 |213    |2017-11-07 08:48:19|Tue            |2017-11-07 08:52:19|Tue                 |1            |\n",
      "|2293|0     |21 |1              |84 |101    |2017-11-08 13:27:13|Wed            |2017-11-08 14:24:08|Wed                 |1            |\n",
      "|2382|1     |16 |1              |35 |21     |2017-11-07 03:44:12|Tue            |2017-11-07 04:26:07|Tue                 |1            |\n",
      "|2531|0     |29 |1              |19 |213    |2017-11-08 04:23:16|Wed            |2017-11-08 04:34:33|Wed                 |1            |\n",
      "|2640|1     |22 |1              |9  |215    |2017-11-09 11:46:36|Thu            |2017-11-09 12:12:51|Thu                 |1            |\n",
      "|2860|1     |19 |1              |35 |21     |2017-11-09 03:31:59|Thu            |2017-11-09 08:06:09|Thu                 |1            |\n",
      "|3162|0     |0  |2              |19 |213    |2017-11-07 03:32:36|Tue            |2017-11-07 05:23:38|Tue                 |1            |\n",
      "|3212|1     |13 |1              |35 |274    |2017-11-08 02:28:50|Wed            |2017-11-08 02:51:14|Wed                 |1            |\n",
      "|3410|1     |8  |1              |35 |21     |2017-11-09 00:21:26|Thu            |2017-11-09 00:37:50|Thu                 |1            |\n",
      "|3410|1     |10 |1              |35 |21     |2017-11-07 00:24:35|Tue            |2017-11-07 01:00:19|Tue                 |1            |\n",
      "+----+------+---+---------------+---+-------+-------------------+---------------+-------------------+--------------------+-------------+\n",
      "only showing top 20 rows\n",
      "\n"
     ]
    }
   ],
   "source": [
    "# Un dataframe cogiendo sólo los primeros\n",
    "w_click_time = W.partitionBy('ip', 'device', 'os').orderBy('click_time')\n",
    "\n",
    "only_firsts = ever_attributed.filter('ever_attributed > 0').filter('is_attributed == 0').withColumn('index', F.rank().over(w_click_time)).filter('index == 1').drop('index')\n",
    "\n",
    "# Otro dataframe cogiendo sólo los que son attributed (y a su vez cogiendo sólo los primeros, es decir un sólo attributed por usuario)\n",
    "only_attributed = ever_attributed.filter('is_attributed == 1').withColumn('index', F.rank().over(w_click_time)).filter('index == 1').drop('index')\n",
    "\n",
    "only_firsts.persist(pyspark.StorageLevel.MEMORY_AND_DISK_SER)\n",
    "only_attributed.persist(pyspark.StorageLevel.MEMORY_AND_DISK_SER)\n",
    "\n",
    "only_firsts.show(truncate = False)\n",
    "only_attributed.show(truncate = False)"
   ]
  },
  {
   "cell_type": "code",
   "execution_count": 44,
   "metadata": {},
   "outputs": [
    {
     "name": "stdout",
     "output_type": "stream",
     "text": [
      "+----+------+---+---------------+---+-------+-------------------+---------------+---------------+--------------------+-------------+\n",
      "|ip  |device|os |ever_attributed|app|channel|click_time         |click_time_wday|attributed_time|attributed_time_wday|is_attributed|\n",
      "+----+------+---+---------------+---+-------+-------------------+---------------+---------------+--------------------+-------------+\n",
      "|150 |1     |19 |1              |15 |245    |2017-11-06 16:35:22|Mon            |null           |null                |0            |\n",
      "|705 |1     |17 |1              |9  |244    |2017-11-06 18:24:29|Mon            |null           |null                |0            |\n",
      "|991 |1     |17 |1              |12 |328    |2017-11-06 17:03:07|Mon            |null           |null                |0            |\n",
      "|991 |1     |17 |1              |2  |212    |2017-11-06 17:03:07|Mon            |null           |null                |0            |\n",
      "|1012|1     |13 |1              |3  |442    |2017-11-06 16:01:03|Mon            |null           |null                |0            |\n",
      "|1070|1     |22 |1              |9  |134    |2017-11-07 00:33:27|Tue            |null           |null                |0            |\n",
      "|1070|1     |22 |1              |12 |178    |2017-11-07 00:33:27|Tue            |null           |null                |0            |\n",
      "|1070|1     |22 |1              |12 |178    |2017-11-07 00:33:27|Tue            |null           |null                |0            |\n",
      "|1074|0     |21 |3              |19 |347    |2017-11-06 23:39:04|Mon            |null           |null                |0            |\n",
      "|1117|1     |13 |4              |9  |134    |2017-11-06 16:00:24|Mon            |null           |null                |0            |\n",
      "|1117|1     |13 |4              |8  |145    |2017-11-06 16:00:24|Mon            |null           |null                |0            |\n",
      "|1117|1     |13 |4              |15 |140    |2017-11-06 16:00:24|Mon            |null           |null                |0            |\n",
      "|1117|1     |13 |4              |8  |145    |2017-11-06 16:00:24|Mon            |null           |null                |0            |\n",
      "|2128|1     |19 |1              |9  |244    |2017-11-06 16:45:33|Mon            |null           |null                |0            |\n",
      "|2187|937   |0  |1              |19 |213    |2017-11-08 21:35:20|Wed            |null           |null                |0            |\n",
      "|2293|0     |21 |1              |84 |101    |2017-11-08 13:27:03|Wed            |null           |null                |0            |\n",
      "|2382|1     |16 |1              |21 |128    |2017-11-06 16:25:21|Mon            |null           |null                |0            |\n",
      "|2531|0     |29 |1              |19 |213    |2017-11-08 04:08:09|Wed            |null           |null                |0            |\n",
      "|2640|1     |22 |1              |7  |101    |2017-11-09 05:35:24|Thu            |null           |null                |0            |\n",
      "|2640|1     |22 |1              |2  |237    |2017-11-09 05:35:24|Thu            |null           |null                |0            |\n",
      "+----+------+---+---------------+---+-------+-------------------+---------------+---------------+--------------------+-------------+\n",
      "only showing top 20 rows\n",
      "\n"
     ]
    }
   ],
   "source": [
    "attributed_and_not_attributed = only_firsts.union(only_attributed)\n",
    "\n",
    "attributed_and_not_attributed.persist(pyspark.StorageLevel.MEMORY_AND_DISK_SER)\n",
    "\n",
    "attributed_and_not_attributed.show(truncate = False)"
   ]
  },
  {
   "cell_type": "code",
   "execution_count": 47,
   "metadata": {},
   "outputs": [
    {
     "name": "stdout",
     "output_type": "stream",
     "text": [
      "+-------+-------------------+\n",
      "|summary|click_time_diff    |\n",
      "+-------+-------------------+\n",
      "|count  |648721             |\n",
      "|mean   |0.23031318548343588|\n",
      "|stddev |0.6033471929407952 |\n",
      "|min    |0                  |\n",
      "|max    |3                  |\n",
      "+-------+-------------------+\n",
      "\n"
     ]
    }
   ],
   "source": [
    "click_diffs = (attributed_and_not_attributed.withColumn('prev_value', F.lag('click_time').over(w_click_time))\n",
    "                                            .orderBy(attributed_and_not_attributed.click_time.desc())                                            \n",
    "              )\n",
    "\n",
    "click_diffs = (click_diffs.withColumn('click_time_diff', F.abs( F.when( F.isnull(F.dayofyear(click_diffs.click_time) - F.dayofyear(click_diffs.prev_value)), 0 )\n",
    "                                                                 .otherwise(F.dayofyear(click_diffs.click_time) - F.dayofyear(click_diffs.prev_value)))\n",
    "                                                         )\n",
    "              )\n",
    "\n",
    "click_diffs.persist(pyspark.StorageLevel.MEMORY_AND_DISK_SER)\n",
    "\n",
    "click_diffs.describe('click_time_diff').show(truncate = False)"
   ]
  },
  {
   "cell_type": "code",
   "execution_count": 49,
   "metadata": {},
   "outputs": [],
   "source": [
    "click_diffs_pd = click_diffs.select('click_time_diff').toPandas()"
   ]
  },
  {
   "cell_type": "code",
   "execution_count": 51,
   "metadata": {},
   "outputs": [
    {
     "data": {
      "text/plain": [
       "click_time_diff    0.0\n",
       "dtype: float64"
      ]
     },
     "execution_count": 51,
     "metadata": {},
     "output_type": "execute_result"
    }
   ],
   "source": [
    "click_diffs_pd.median()"
   ]
  },
  {
   "cell_type": "code",
   "execution_count": 52,
   "metadata": {},
   "outputs": [
    {
     "data": {
      "image/png": "[encoded data removed]",
      "text/plain": [
       "<matplotlib.figure.Figure at 0x7f339d440518>"
      ]
     },
     "metadata": {},
     "output_type": "display_data"
    }
   ],
   "source": [
    "sns.distplot(click_diffs_pd['click_time_diff'], kde=False, rug=False)\n",
    "\n",
    "sns.plt.show()"
   ]
  },
  {
   "cell_type": "markdown",
   "metadata": {},
   "source": [
    "Dado que en muchas ocasiones no hay diferencia entre días, exploremos la diferencia entre horas."
   ]
  },
  {
   "cell_type": "code",
   "execution_count": 55,
   "metadata": {},
   "outputs": [
    {
     "name": "stdout",
     "output_type": "stream",
     "text": [
      "+-------+------------------+\n",
      "|summary|click_time_diff   |\n",
      "+-------+------------------+\n",
      "|count  |648721            |\n",
      "|mean   |4.474332042074582 |\n",
      "|stddev |12.025348377973328|\n",
      "|min    |0.0               |\n",
      "|max    |71.98972222222223 |\n",
      "+-------+------------------+\n",
      "\n"
     ]
    }
   ],
   "source": [
    "click_diffs = (attributed_and_not_attributed.withColumn('prev_value', F.lag('click_time').over(w_click_time))\n",
    "                                            .orderBy(attributed_and_not_attributed.click_time.desc())                                            \n",
    "              )\n",
    "\n",
    "click_diffs = (click_diffs.withColumn('click_time_diff', F.abs( F.when( F.isnull(click_diffs.click_time.cast('long') - click_diffs.prev_value.cast('long') ), 0 )\n",
    "                                                                 .otherwise( click_diffs.click_time.cast('long') - click_diffs.prev_value.cast('long') )\n",
    "                                                              ) / 3600\n",
    "                                     )\n",
    "              )\n",
    "\n",
    "click_diffs.persist(pyspark.StorageLevel.MEMORY_AND_DISK_SER)\n",
    "\n",
    "click_diffs.describe('click_time_diff').show(truncate = False)"
   ]
  },
  {
   "cell_type": "code",
   "execution_count": 56,
   "metadata": {},
   "outputs": [],
   "source": [
    "click_diffs_pd = click_diffs.select('click_time_diff').toPandas()"
   ]
  },
  {
   "cell_type": "code",
   "execution_count": 57,
   "metadata": {},
   "outputs": [
    {
     "data": {
      "text/plain": [
       "click_time_diff    0.0\n",
       "dtype: float64"
      ]
     },
     "execution_count": 57,
     "metadata": {},
     "output_type": "execute_result"
    }
   ],
   "source": [
    "click_diffs_pd.median()"
   ]
  },
  {
   "cell_type": "code",
   "execution_count": 58,
   "metadata": {},
   "outputs": [
    {
     "data": {
      "image/png": "[encoded data removed]",
      "text/plain": [
       "<matplotlib.figure.Figure at 0x7f336bda6a90>"
      ]
     },
     "metadata": {},
     "output_type": "display_data"
    }
   ],
   "source": [
    "sns.distplot(click_diffs_pd['click_time_diff'], kde=False, rug=False)\n",
    "\n",
    "sns.plt.show()"
   ]
  },
  {
   "cell_type": "markdown",
   "metadata": {},
   "source": [
    "Es probable que los 0 aparezcan porque son casos en los que son usuarios únicos y la primera y última vez de los que se tiene registros, convirtieron a la primera."
   ]
  },
  {
   "cell_type": "code",
   "execution_count": 63,
   "metadata": {},
   "outputs": [
    {
     "data": {
      "image/png": "[encoded data removed]",
      "text/plain": [
       "<matplotlib.figure.Figure at 0x7f336b921c18>"
      ]
     },
     "metadata": {},
     "output_type": "display_data"
    }
   ],
   "source": [
    "sns.distplot(click_diffs_pd['click_time_diff'][click_diffs_pd['click_time_diff'] > 0], kde=False, rug=False)\n",
    "\n",
    "sns.plt.show()"
   ]
  },
  {
   "cell_type": "markdown",
   "metadata": {},
   "source": [
    "Hay muchos casos en los que la diferencia es de menos de una hora, así que luego exploraremos esto de nuevo pero desde los minutos."
   ]
  },
  {
   "cell_type": "code",
   "execution_count": 64,
   "metadata": {},
   "outputs": [
    {
     "data": {
      "image/png": "[encoded data removed]",
      "text/plain": [
       "<matplotlib.figure.Figure at 0x7f335ed4b908>"
      ]
     },
     "metadata": {},
     "output_type": "display_data"
    }
   ],
   "source": [
    "sns.distplot(click_diffs_pd['click_time_diff'][click_diffs_pd['click_time_diff'] >= 1], kde=False, rug=False)\n",
    "\n",
    "sns.plt.show()"
   ]
  },
  {
   "cell_type": "markdown",
   "metadata": {},
   "source": [
    "Existen picos a la hora, entorno a las 10 horas, entre las 30 y 40 horas y cerca de las 60 horas."
   ]
  },
  {
   "cell_type": "code",
   "execution_count": 65,
   "metadata": {},
   "outputs": [
    {
     "name": "stdout",
     "output_type": "stream",
     "text": [
      "+-------+------------------+\n",
      "|summary|click_time_diff   |\n",
      "+-------+------------------+\n",
      "|count  |648721            |\n",
      "|mean   |268.45992252447513|\n",
      "|stddev |721.5209026783995 |\n",
      "|min    |0.0               |\n",
      "|max    |4319.383333333333 |\n",
      "+-------+------------------+\n",
      "\n"
     ]
    }
   ],
   "source": [
    "click_diffs = (attributed_and_not_attributed.withColumn('prev_value', F.lag('click_time').over(w_click_time))\n",
    "                                            .orderBy(attributed_and_not_attributed.click_time.desc())                                            \n",
    "              )\n",
    "\n",
    "click_diffs = (click_diffs.withColumn('click_time_diff', F.abs( F.when( F.isnull(click_diffs.click_time.cast('long') - click_diffs.prev_value.cast('long') ), 0 )\n",
    "                                                                 .otherwise( click_diffs.click_time.cast('long') - click_diffs.prev_value.cast('long') )\n",
    "                                                              ) / 60\n",
    "                                     )\n",
    "              )\n",
    "\n",
    "click_diffs.persist(pyspark.StorageLevel.MEMORY_AND_DISK_SER)\n",
    "\n",
    "click_diffs.describe('click_time_diff').show(truncate = False)"
   ]
  },
  {
   "cell_type": "code",
   "execution_count": 66,
   "metadata": {},
   "outputs": [],
   "source": [
    "click_diffs_pd = click_diffs.select('click_time_diff').toPandas()"
   ]
  },
  {
   "cell_type": "code",
   "execution_count": 67,
   "metadata": {},
   "outputs": [
    {
     "data": {
      "text/plain": [
       "click_time_diff    0.0\n",
       "dtype: float64"
      ]
     },
     "execution_count": 67,
     "metadata": {},
     "output_type": "execute_result"
    }
   ],
   "source": [
    "click_diffs_pd.median()"
   ]
  },
  {
   "cell_type": "code",
   "execution_count": 68,
   "metadata": {},
   "outputs": [
    {
     "data": {
      "image/png": "[encoded data removed]",
      "text/plain": [
       "<matplotlib.figure.Figure at 0x7f336b7399b0>"
      ]
     },
     "metadata": {},
     "output_type": "display_data"
    }
   ],
   "source": [
    "sns.distplot(click_diffs_pd['click_time_diff'], kde=False, rug=False)\n",
    "\n",
    "sns.plt.show()"
   ]
  },
  {
   "cell_type": "code",
   "execution_count": 74,
   "metadata": {},
   "outputs": [
    {
     "data": {
      "image/png": "[encoded data removed]",
      "text/plain": [
       "<matplotlib.figure.Figure at 0x7f336b74b2b0>"
      ]
     },
     "metadata": {},
     "output_type": "display_data"
    }
   ],
   "source": [
    "sns.distplot(click_diffs_pd['click_time_diff'][(click_diffs_pd['click_time_diff'] > 0) & (click_diffs_pd['click_time_diff'] < 1)], kde=False, rug=False)\n",
    "\n",
    "sns.plt.show()"
   ]
  },
  {
   "cell_type": "code",
   "execution_count": 76,
   "metadata": {},
   "outputs": [
    {
     "data": {
      "image/png": "[encoded data removed]",
      "text/plain": [
       "<matplotlib.figure.Figure at 0x7f336883ee80>"
      ]
     },
     "metadata": {},
     "output_type": "display_data"
    }
   ],
   "source": [
    "sns.distplot(click_diffs_pd['click_time_diff'][(click_diffs_pd['click_time_diff'] > 0) & (click_diffs_pd['click_time_diff'] < 0.025)], kde=False, rug=False)\n",
    "\n",
    "sns.plt.show()"
   ]
  },
  {
   "cell_type": "code",
   "execution_count": 77,
   "metadata": {},
   "outputs": [
    {
     "data": {
      "text/plain": [
       "15     0.016667\n",
       "72     0.016667\n",
       "81     0.016667\n",
       "135    0.016667\n",
       "145    0.016667\n",
       "151    0.016667\n",
       "225    0.016667\n",
       "235    0.016667\n",
       "246    0.016667\n",
       "282    0.016667\n",
       "Name: click_time_diff, dtype: float64"
      ]
     },
     "execution_count": 77,
     "metadata": {},
     "output_type": "execute_result"
    }
   ],
   "source": [
    "click_diffs_pd['click_time_diff'][(click_diffs_pd['click_time_diff'] > 0) & (click_diffs_pd['click_time_diff'] < 0.025)].head(10)"
   ]
  },
  {
   "cell_type": "code",
   "execution_count": 79,
   "metadata": {},
   "outputs": [
    {
     "data": {
      "text/plain": [
       "Series([], Name: click_time_diff, dtype: float64)"
      ]
     },
     "execution_count": 79,
     "metadata": {},
     "output_type": "execute_result"
    }
   ],
   "source": [
    "click_diffs_pd['click_time_diff'][(click_diffs_pd['click_time_diff'] > 0) & (click_diffs_pd['click_time_diff'] < 0.01666)].head(10)"
   ]
  },
  {
   "cell_type": "markdown",
   "metadata": {},
   "source": [
    "Hay muchos casos en los que la diferencia de tiempo es de 0.016667 minutos."
   ]
  },
  {
   "cell_type": "code",
   "execution_count": 98,
   "metadata": {},
   "outputs": [
    {
     "data": {
      "text/plain": [
       "DataFrame[ip: int, device: int, os: int, ever_attributed: bigint, app: int, channel: int, click_time: timestamp, click_time_wday: string, attributed_time: timestamp, attributed_time_wday: string, is_attributed: int, prev_value: timestamp, click_time_diff: double]"
      ]
     },
     "execution_count": 98,
     "metadata": {},
     "output_type": "execute_result"
    }
   ],
   "source": [
    "click_diffs.unpersist()"
   ]
  },
  {
   "cell_type": "markdown",
   "metadata": {},
   "source": [
    "### Observar cuántas veces se hace click hasta que se convierte en attributed"
   ]
  },
  {
   "cell_type": "code",
   "execution_count": 88,
   "metadata": {},
   "outputs": [
    {
     "name": "stdout",
     "output_type": "stream",
     "text": [
      "+-------+------------------+\n",
      "|summary|index             |\n",
      "+-------+------------------+\n",
      "|count  |368930            |\n",
      "|mean   |1.6603827284308676|\n",
      "|stddev |0.7994985505188071|\n",
      "|min    |1                 |\n",
      "|max    |17                |\n",
      "+-------+------------------+\n",
      "\n"
     ]
    }
   ],
   "source": [
    "times_clicked = attributed_and_not_attributed.withColumn('index', F.rank().over(w_click_time)).filter('is_attributed == 1')\n",
    "\n",
    "times_clicked.persist(pyspark.StorageLevel.MEMORY_AND_DISK_SER)\n",
    "\n",
    "times_clicked.describe('index').show(truncate = False)"
   ]
  },
  {
   "cell_type": "code",
   "execution_count": 89,
   "metadata": {},
   "outputs": [],
   "source": [
    "times_clicked_pd = times_clicked.select('index').toPandas()"
   ]
  },
  {
   "cell_type": "code",
   "execution_count": 90,
   "metadata": {},
   "outputs": [
    {
     "data": {
      "text/plain": [
       "index    2.0\n",
       "dtype: float64"
      ]
     },
     "execution_count": 90,
     "metadata": {},
     "output_type": "execute_result"
    }
   ],
   "source": [
    "times_clicked_pd.median()"
   ]
  },
  {
   "cell_type": "code",
   "execution_count": 97,
   "metadata": {},
   "outputs": [
    {
     "data": {
      "image/png": "[encoded data removed]",
      "text/plain": [
       "<matplotlib.figure.Figure at 0x7f336b1fc5c0>"
      ]
     },
     "metadata": {},
     "output_type": "display_data"
    }
   ],
   "source": [
    "sns.plt.figure(figsize=(20, 10))\n",
    "sns.distplot(times_clicked_pd['index'], kde=False, rug=False)\n",
    "sns.plt.xticks(range(0, 17, 1))\n",
    "sns.plt.show()"
   ]
  },
  {
   "cell_type": "code",
   "execution_count": 99,
   "metadata": {},
   "outputs": [
    {
     "data": {
      "text/plain": [
       "DataFrame[ip: int, device: int, os: int, ever_attributed: bigint, app: int, channel: int, click_time: timestamp, click_time_wday: string, attributed_time: timestamp, attributed_time_wday: string, is_attributed: int]"
      ]
     },
     "execution_count": 99,
     "metadata": {},
     "output_type": "execute_result"
    }
   ],
   "source": [
    "attributed_and_not_attributed.unpersist()\n",
    "only_firsts.unpersist()\n",
    "only_attributed.unpersist()\n",
    "ever_attributed.unpersist()"
   ]
  },
  {
   "cell_type": "markdown",
   "metadata": {},
   "source": [
    "Parece haber una gran cantidad de clicks que convierten en la primera vez, y un número similar que lo hace la segunda vez. A partir de ahí el número de conversiones baja drásticamente."
   ]
  },
  {
   "cell_type": "markdown",
   "metadata": {},
   "source": [
    "### Información sobre los móviles"
   ]
  },
  {
   "cell_type": "code",
   "execution_count": null,
   "metadata": {},
   "outputs": [],
   "source": [
    "count_mobile_groups = train_df.select('device', 'os').groupBy('device', 'os').count()\n",
    "count_mobile_groups.orderBy(count_mobile_groups['count'].desc())"
   ]
  },
  {
   "cell_type": "code",
   "execution_count": null,
   "metadata": {},
   "outputs": [],
   "source": [
    "count_mobile_groups_no_os = train_df.select('device').groupBy('device').count()\n",
    "count_mobile_groups_no_os.orderBy(count_mobile_groups_no_os['count'].desc())"
   ]
  },
  {
   "cell_type": "code",
   "execution_count": null,
   "metadata": {},
   "outputs": [],
   "source": [
    "count_mobile_isattributed_groups_no_os = train_df.select('device', 'is_attributed').groupBy('device', 'is_attributed').count()\n",
    "\n",
    "count_mobile_isattributed_groups_no_os.persist(pyspark.StorageLevel.MEMORY_AND_DISK_SER)\n",
    "\n",
    "count_mobile_isattributed_groups_no_os.orderBy(count_mobile_isattributed_groups_no_os['count'].desc(), count_mobile_isattributed_groups_no_os['device'])"
   ]
  },
  {
   "cell_type": "code",
   "execution_count": null,
   "metadata": {},
   "outputs": [],
   "source": [
    "count_mobile_isattributed_groups_no_os.orderBy('device')"
   ]
  },
  {
   "cell_type": "markdown",
   "metadata": {},
   "source": [
    "Partir la variable \"device\" y \"os\" en distintas categorías (Ej: A compuesta por 1, 2, 3, la B compuesta por 4, 5, 6, ...) en función del porcentaje de atribución que dan."
   ]
  },
  {
   "cell_type": "code",
   "execution_count": null,
   "metadata": {},
   "outputs": [],
   "source": [
    "aux = (train_df.select('device', 'is_attributed')\n",
    "               .groupBy('device')\n",
    "               .pivot('is_attributed')\n",
    "               .count())\n",
    "\n",
    "aux = (aux.withColumn('prcnt_0', F.when(~F.isnull('0') & ~F.isnull('1'), (aux['0'] / (aux['0'] + aux['1'])) * 100).otherwise(None))\n",
    "          .withColumn('prcnt_1', F.when(~F.isnull('0') & ~F.isnull('1'), (aux['1'] / (aux['0'] + aux['1'])) * 100).otherwise(None))\n",
    "      )\n",
    "\n",
    "(aux.filter((aux['0'] + aux['1']) >= 1000) # Que como mínimo lleguen a un cierto número de registros\n",
    "   .orderBy(aux['prcnt_1'].desc()))"
   ]
  },
  {
   "cell_type": "code",
   "execution_count": null,
   "metadata": {},
   "outputs": [],
   "source": [
    "aux2 = (train_df.select('os', 'is_attributed')\n",
    "               .groupBy('os')\n",
    "               .pivot('is_attributed')\n",
    "               .count())\n",
    "\n",
    "aux2 = (aux2.withColumn('prcnt_0', F.when(~F.isnull('0') & ~F.isnull('1'), (aux2['0'] / (aux2['0'] + aux2['1'])) * 100).otherwise(None))\n",
    "          .withColumn('prcnt_1', F.when(~F.isnull('0') & ~F.isnull('1'), (aux2['1'] / (aux2['0'] + aux2['1'])) * 100).otherwise(None))\n",
    "      )\n",
    "\n",
    "(aux2.filter((aux2['0'] + aux2['1']) >= 1000) # Que como mínimo lleguen a un cierto número de registros\n",
    "   .orderBy(aux2['prcnt_1'].desc()))"
   ]
  },
  {
   "cell_type": "markdown",
   "metadata": {},
   "source": [
    "Explorar meses y horas"
   ]
  },
  {
   "cell_type": "code",
   "execution_count": 27,
   "metadata": {},
   "outputs": [],
   "source": [
    "wday_count = train_df.select('click_time_wday', 'is_attributed').groupBy('click_time_wday', 'is_attributed').count().toPandas()"
   ]
  },
  {
   "cell_type": "code",
   "execution_count": 26,
   "metadata": {},
   "outputs": [
    {
     "data": {
      "text/html": [
       "<div>\n",
       "<style>\n",
       "    .dataframe thead tr:only-child th {\n",
       "        text-align: right;\n",
       "    }\n",
       "\n",
       "    .dataframe thead th {\n",
       "        text-align: left;\n",
       "    }\n",
       "\n",
       "    .dataframe tbody tr th {\n",
       "        vertical-align: top;\n",
       "    }\n",
       "</style>\n",
       "<table border=\"1\" class=\"dataframe\">\n",
       "  <thead>\n",
       "    <tr style=\"text-align: right;\">\n",
       "      <th></th>\n",
       "      <th>click_time_wday</th>\n",
       "      <th>is_attributed</th>\n",
       "      <th>count</th>\n",
       "    </tr>\n",
       "  </thead>\n",
       "  <tbody>\n",
       "    <tr>\n",
       "      <th>1</th>\n",
       "      <td>Mon</td>\n",
       "      <td>0</td>\n",
       "      <td>9291174</td>\n",
       "    </tr>\n",
       "    <tr>\n",
       "      <th>5</th>\n",
       "      <td>Mon</td>\n",
       "      <td>1</td>\n",
       "      <td>17394</td>\n",
       "    </tr>\n",
       "    <tr>\n",
       "      <th>3</th>\n",
       "      <td>Thu</td>\n",
       "      <td>0</td>\n",
       "      <td>52882970</td>\n",
       "    </tr>\n",
       "    <tr>\n",
       "      <th>2</th>\n",
       "      <td>Thu</td>\n",
       "      <td>1</td>\n",
       "      <td>133967</td>\n",
       "    </tr>\n",
       "    <tr>\n",
       "      <th>6</th>\n",
       "      <td>Tue</td>\n",
       "      <td>0</td>\n",
       "      <td>59481146</td>\n",
       "    </tr>\n",
       "    <tr>\n",
       "      <th>0</th>\n",
       "      <td>Tue</td>\n",
       "      <td>1</td>\n",
       "      <td>152164</td>\n",
       "    </tr>\n",
       "    <tr>\n",
       "      <th>4</th>\n",
       "      <td>Wed</td>\n",
       "      <td>0</td>\n",
       "      <td>62791754</td>\n",
       "    </tr>\n",
       "    <tr>\n",
       "      <th>7</th>\n",
       "      <td>Wed</td>\n",
       "      <td>1</td>\n",
       "      <td>153321</td>\n",
       "    </tr>\n",
       "  </tbody>\n",
       "</table>\n",
       "</div>"
      ],
      "text/plain": [
       "  click_time_wday  is_attributed     count\n",
       "1             Mon              0   9291174\n",
       "5             Mon              1     17394\n",
       "3             Thu              0  52882970\n",
       "2             Thu              1    133967\n",
       "6             Tue              0  59481146\n",
       "0             Tue              1    152164\n",
       "4             Wed              0  62791754\n",
       "7             Wed              1    153321"
      ]
     },
     "execution_count": 26,
     "metadata": {},
     "output_type": "execute_result"
    }
   ],
   "source": [
    "wday_count.sort_values(['click_time_wday', 'is_attributed'])"
   ]
  },
  {
   "cell_type": "code",
   "execution_count": 30,
   "metadata": {},
   "outputs": [],
   "source": [
    "hour_count = train_df.select(F.date_format('click_time', 'H').alias('click_time_hour'), 'is_attributed').groupBy('click_time_hour', 'is_attributed').count().toPandas()"
   ]
  },
  {
   "cell_type": "code",
   "execution_count": 42,
   "metadata": {},
   "outputs": [
    {
     "data": {
      "text/html": [
       "<div>\n",
       "<style>\n",
       "    .dataframe thead tr:only-child th {\n",
       "        text-align: right;\n",
       "    }\n",
       "\n",
       "    .dataframe thead th {\n",
       "        text-align: left;\n",
       "    }\n",
       "\n",
       "    .dataframe tbody tr th {\n",
       "        vertical-align: top;\n",
       "    }\n",
       "</style>\n",
       "<table border=\"1\" class=\"dataframe\">\n",
       "  <thead>\n",
       "    <tr style=\"text-align: right;\">\n",
       "      <th></th>\n",
       "      <th>click_time_hour</th>\n",
       "      <th>count</th>\n",
       "    </tr>\n",
       "  </thead>\n",
       "  <tbody>\n",
       "    <tr>\n",
       "      <th>46</th>\n",
       "      <td>2.0</td>\n",
       "      <td>29408.0</td>\n",
       "    </tr>\n",
       "    <tr>\n",
       "      <th>1</th>\n",
       "      <td>4.0</td>\n",
       "      <td>29235.0</td>\n",
       "    </tr>\n",
       "    <tr>\n",
       "      <th>7</th>\n",
       "      <td>3.0</td>\n",
       "      <td>28861.0</td>\n",
       "    </tr>\n",
       "    <tr>\n",
       "      <th>33</th>\n",
       "      <td>1.0</td>\n",
       "      <td>27846.0</td>\n",
       "    </tr>\n",
       "    <tr>\n",
       "      <th>17</th>\n",
       "      <td>5.0</td>\n",
       "      <td>26531.0</td>\n",
       "    </tr>\n",
       "    <tr>\n",
       "      <th>40</th>\n",
       "      <td>12.0</td>\n",
       "      <td>26484.0</td>\n",
       "    </tr>\n",
       "    <tr>\n",
       "      <th>28</th>\n",
       "      <td>11.0</td>\n",
       "      <td>26051.0</td>\n",
       "    </tr>\n",
       "    <tr>\n",
       "      <th>10</th>\n",
       "      <td>13.0</td>\n",
       "      <td>25798.0</td>\n",
       "    </tr>\n",
       "    <tr>\n",
       "      <th>21</th>\n",
       "      <td>6.0</td>\n",
       "      <td>25757.0</td>\n",
       "    </tr>\n",
       "    <tr>\n",
       "      <th>20</th>\n",
       "      <td>7.0</td>\n",
       "      <td>25653.0</td>\n",
       "    </tr>\n",
       "    <tr>\n",
       "      <th>4</th>\n",
       "      <td>8.0</td>\n",
       "      <td>25316.0</td>\n",
       "    </tr>\n",
       "    <tr>\n",
       "      <th>38</th>\n",
       "      <td>9.0</td>\n",
       "      <td>24725.0</td>\n",
       "    </tr>\n",
       "    <tr>\n",
       "      <th>44</th>\n",
       "      <td>10.0</td>\n",
       "      <td>24397.0</td>\n",
       "    </tr>\n",
       "    <tr>\n",
       "      <th>35</th>\n",
       "      <td>0.0</td>\n",
       "      <td>21696.0</td>\n",
       "    </tr>\n",
       "    <tr>\n",
       "      <th>47</th>\n",
       "      <td>14.0</td>\n",
       "      <td>21596.0</td>\n",
       "    </tr>\n",
       "    <tr>\n",
       "      <th>27</th>\n",
       "      <td>15.0</td>\n",
       "      <td>13191.0</td>\n",
       "    </tr>\n",
       "    <tr>\n",
       "      <th>45</th>\n",
       "      <td>23.0</td>\n",
       "      <td>13021.0</td>\n",
       "    </tr>\n",
       "    <tr>\n",
       "      <th>39</th>\n",
       "      <td>16.0</td>\n",
       "      <td>12098.0</td>\n",
       "    </tr>\n",
       "    <tr>\n",
       "      <th>29</th>\n",
       "      <td>22.0</td>\n",
       "      <td>7763.0</td>\n",
       "    </tr>\n",
       "    <tr>\n",
       "      <th>16</th>\n",
       "      <td>17.0</td>\n",
       "      <td>6938.0</td>\n",
       "    </tr>\n",
       "    <tr>\n",
       "      <th>11</th>\n",
       "      <td>18.0</td>\n",
       "      <td>4378.0</td>\n",
       "    </tr>\n",
       "    <tr>\n",
       "      <th>6</th>\n",
       "      <td>21.0</td>\n",
       "      <td>3896.0</td>\n",
       "    </tr>\n",
       "    <tr>\n",
       "      <th>41</th>\n",
       "      <td>19.0</td>\n",
       "      <td>3259.0</td>\n",
       "    </tr>\n",
       "    <tr>\n",
       "      <th>42</th>\n",
       "      <td>20.0</td>\n",
       "      <td>2948.0</td>\n",
       "    </tr>\n",
       "    <tr>\n",
       "      <th>0</th>\n",
       "      <td>NaN</td>\n",
       "      <td>NaN</td>\n",
       "    </tr>\n",
       "    <tr>\n",
       "      <th>2</th>\n",
       "      <td>NaN</td>\n",
       "      <td>NaN</td>\n",
       "    </tr>\n",
       "    <tr>\n",
       "      <th>3</th>\n",
       "      <td>NaN</td>\n",
       "      <td>NaN</td>\n",
       "    </tr>\n",
       "    <tr>\n",
       "      <th>5</th>\n",
       "      <td>NaN</td>\n",
       "      <td>NaN</td>\n",
       "    </tr>\n",
       "    <tr>\n",
       "      <th>8</th>\n",
       "      <td>NaN</td>\n",
       "      <td>NaN</td>\n",
       "    </tr>\n",
       "    <tr>\n",
       "      <th>9</th>\n",
       "      <td>NaN</td>\n",
       "      <td>NaN</td>\n",
       "    </tr>\n",
       "    <tr>\n",
       "      <th>12</th>\n",
       "      <td>NaN</td>\n",
       "      <td>NaN</td>\n",
       "    </tr>\n",
       "    <tr>\n",
       "      <th>13</th>\n",
       "      <td>NaN</td>\n",
       "      <td>NaN</td>\n",
       "    </tr>\n",
       "    <tr>\n",
       "      <th>14</th>\n",
       "      <td>NaN</td>\n",
       "      <td>NaN</td>\n",
       "    </tr>\n",
       "    <tr>\n",
       "      <th>15</th>\n",
       "      <td>NaN</td>\n",
       "      <td>NaN</td>\n",
       "    </tr>\n",
       "    <tr>\n",
       "      <th>18</th>\n",
       "      <td>NaN</td>\n",
       "      <td>NaN</td>\n",
       "    </tr>\n",
       "    <tr>\n",
       "      <th>19</th>\n",
       "      <td>NaN</td>\n",
       "      <td>NaN</td>\n",
       "    </tr>\n",
       "    <tr>\n",
       "      <th>22</th>\n",
       "      <td>NaN</td>\n",
       "      <td>NaN</td>\n",
       "    </tr>\n",
       "    <tr>\n",
       "      <th>23</th>\n",
       "      <td>NaN</td>\n",
       "      <td>NaN</td>\n",
       "    </tr>\n",
       "    <tr>\n",
       "      <th>24</th>\n",
       "      <td>NaN</td>\n",
       "      <td>NaN</td>\n",
       "    </tr>\n",
       "    <tr>\n",
       "      <th>25</th>\n",
       "      <td>NaN</td>\n",
       "      <td>NaN</td>\n",
       "    </tr>\n",
       "    <tr>\n",
       "      <th>26</th>\n",
       "      <td>NaN</td>\n",
       "      <td>NaN</td>\n",
       "    </tr>\n",
       "    <tr>\n",
       "      <th>30</th>\n",
       "      <td>NaN</td>\n",
       "      <td>NaN</td>\n",
       "    </tr>\n",
       "    <tr>\n",
       "      <th>31</th>\n",
       "      <td>NaN</td>\n",
       "      <td>NaN</td>\n",
       "    </tr>\n",
       "    <tr>\n",
       "      <th>32</th>\n",
       "      <td>NaN</td>\n",
       "      <td>NaN</td>\n",
       "    </tr>\n",
       "    <tr>\n",
       "      <th>34</th>\n",
       "      <td>NaN</td>\n",
       "      <td>NaN</td>\n",
       "    </tr>\n",
       "    <tr>\n",
       "      <th>36</th>\n",
       "      <td>NaN</td>\n",
       "      <td>NaN</td>\n",
       "    </tr>\n",
       "    <tr>\n",
       "      <th>37</th>\n",
       "      <td>NaN</td>\n",
       "      <td>NaN</td>\n",
       "    </tr>\n",
       "    <tr>\n",
       "      <th>43</th>\n",
       "      <td>NaN</td>\n",
       "      <td>NaN</td>\n",
       "    </tr>\n",
       "  </tbody>\n",
       "</table>\n",
       "</div>"
      ],
      "text/plain": [
       "    click_time_hour    count\n",
       "46              2.0  29408.0\n",
       "1               4.0  29235.0\n",
       "7               3.0  28861.0\n",
       "33              1.0  27846.0\n",
       "17              5.0  26531.0\n",
       "40             12.0  26484.0\n",
       "28             11.0  26051.0\n",
       "10             13.0  25798.0\n",
       "21              6.0  25757.0\n",
       "20              7.0  25653.0\n",
       "4               8.0  25316.0\n",
       "38              9.0  24725.0\n",
       "44             10.0  24397.0\n",
       "35              0.0  21696.0\n",
       "47             14.0  21596.0\n",
       "27             15.0  13191.0\n",
       "45             23.0  13021.0\n",
       "39             16.0  12098.0\n",
       "29             22.0   7763.0\n",
       "16             17.0   6938.0\n",
       "11             18.0   4378.0\n",
       "6              21.0   3896.0\n",
       "41             19.0   3259.0\n",
       "42             20.0   2948.0\n",
       "0               NaN      NaN\n",
       "2               NaN      NaN\n",
       "3               NaN      NaN\n",
       "5               NaN      NaN\n",
       "8               NaN      NaN\n",
       "9               NaN      NaN\n",
       "12              NaN      NaN\n",
       "13              NaN      NaN\n",
       "14              NaN      NaN\n",
       "15              NaN      NaN\n",
       "18              NaN      NaN\n",
       "19              NaN      NaN\n",
       "22              NaN      NaN\n",
       "23              NaN      NaN\n",
       "24              NaN      NaN\n",
       "25              NaN      NaN\n",
       "26              NaN      NaN\n",
       "30              NaN      NaN\n",
       "31              NaN      NaN\n",
       "32              NaN      NaN\n",
       "34              NaN      NaN\n",
       "36              NaN      NaN\n",
       "37              NaN      NaN\n",
       "43              NaN      NaN"
      ]
     },
     "execution_count": 42,
     "metadata": {},
     "output_type": "execute_result"
    }
   ],
   "source": [
    "# hour_count['click_time_hour'] = pd.to_numeric(hour_count['click_time_hour'])\n",
    "\n",
    "hour_count_ordered = hour_count.where(hour_count['is_attributed'] == 1).sort_values(['count'], ascending = False)[['click_time_hour', 'count']]\n",
    "\n",
    "hour_count_ordered"
   ]
  },
  {
   "cell_type": "code",
   "execution_count": 43,
   "metadata": {},
   "outputs": [
    {
     "data": {
      "image/png": "[encoded data removed]",
      "text/plain": [
       "<matplotlib.figure.Figure at 0x7eff0a09cc50>"
      ]
     },
     "metadata": {},
     "output_type": "display_data"
    }
   ],
   "source": [
    "sns.plt.figure(figsize=(20, 10))\n",
    "sns.barplot(x='click_time_hour', y='count', data=hour_count_ordered)\n",
    "sns.plt.show()"
   ]
  },
  {
   "cell_type": "markdown",
   "metadata": {},
   "source": [
    "#### Extracción de más variables"
   ]
  },
  {
   "cell_type": "markdown",
   "metadata": {},
   "source": [
    "Sacar variable que indique número de clicks desde el primer click de un usuario concreto hasta ese click en ese momento. De la misma manera que el punto anterior, si convierte se resetea el contador y el primero pasa a ser el siguiente al convertido."
   ]
  },
  {
   "cell_type": "code",
   "execution_count": null,
   "metadata": {},
   "outputs": [],
   "source": [
    "w1 = W.partitionBy('ip', 'device', 'os').orderBy('click_time')\n",
    "\n",
    "train_df = train_df.withColumn('prev_value', F.lag('is_attributed').over(w1))\n",
    "\n",
    "# aux = aux.withColumn('times_attributed', F.sum('is_attributed').over(w1))\n",
    "\n",
    "train_df = train_df.withColumn('times_attributed', F.when(F.isnull( F.sum('prev_value').over(w1) ), 0 ).otherwise( F.sum('prev_value').over(w1) )  )\n",
    "\n",
    "w2 = W.partitionBy('ip', 'device', 'os', 'times_attributed').orderBy('click_time')\n",
    "\n",
    "train_df = train_df.withColumn('n_previous_clicks', F.row_number().over(w2) - 1)\n",
    "\n",
    "# train_df.persist(pyspark.StorageLevel.MEMORY_AND_DISK_SER)\n",
    "\n",
    "# train_df.show(n = 10000, truncate = False)"
   ]
  },
  {
   "cell_type": "markdown",
   "metadata": {},
   "source": [
    "Sacar variable que indique la diferencia en minutos desde el primer click de un usuario concreto (ip, device, os) hasta ese click en concreto. Si el usuario convierte, entonces se resetea el contador de diferencia y el primero será el siguiente registro al convertido (ordenados por tiempo)."
   ]
  },
  {
   "cell_type": "code",
   "execution_count": null,
   "metadata": {},
   "outputs": [],
   "source": [
    "train_df = (train_df.withColumn('group_first', F.first('click_time').over(w2))\n",
    "                    .withColumn('click_time_diff', F.abs( F.col('click_time').cast('long') - F.col('group_first').cast('long') ) / 60 )\n",
    "           )\n",
    "\n",
    "train_df = train_df.drop('group_first').drop('times_attributed').drop('prev_value')\n",
    "\n",
    "# train_df.persist(pyspark.StorageLevel.MEMORY_AND_DISK_SER)\n",
    "\n",
    "# train_df.show(n = 10000, truncate = False)"
   ]
  },
  {
   "cell_type": "markdown",
   "metadata": {},
   "source": [
    "Sacar dos variables que cataloguen tanto a device como a os en distintas categorías en función de porcentaje de conversión que tienen (teniendo en cuenta el número de observaciones que constituyen, ver abajo)."
   ]
  },
  {
   "cell_type": "code",
   "execution_count": 18,
   "metadata": {},
   "outputs": [
    {
     "name": "stdout",
     "output_type": "stream",
     "text": [
      "+------+--------------------+---+-------------------+\n",
      "|device|prcnt_1             |1  |custom_score       |\n",
      "+------+--------------------+---+-------------------+\n",
      "|1580  |0.13043478260869565 |3  |0.3913043478260869 |\n",
      "|496   |0.08888888888888889 |4  |0.35555555555555557|\n",
      "|1238  |0.0                 |0  |0.0                |\n",
      "|1829  |0.16666666666666663 |2  |0.33333333333333326|\n",
      "|4101  |0.0                 |0  |0.0                |\n",
      "|3749  |0.16666666666666663 |1  |0.16666666666666663|\n",
      "|1591  |0.034722222222222224|5  |0.1736111111111111 |\n",
      "|3997  |0.5                 |1  |0.5                |\n",
      "|3175  |0.0                 |0  |0.0                |\n",
      "|148   |0.169811320754717   |18 |3.056603773584906  |\n",
      "|3918  |0.0                 |0  |0.0                |\n",
      "|463   |0.13333333333333333 |2  |0.26666666666666666|\n",
      "|1088  |0.32                |8  |2.56               |\n",
      "|471   |0.06451612903225806 |2  |0.12903225806451613|\n",
      "|833   |0.0                 |0  |0.0                |\n",
      "|3794  |0.0                 |0  |0.0                |\n",
      "|737   |0.18181818181818182 |44 |8.0                |\n",
      "|1522  |0.18181818181818182 |4  |0.7272727272727273 |\n",
      "|540   |0.16666666666666663 |16 |2.666666666666666  |\n",
      "|858   |0.10714285714285714 |12 |1.2857142857142856 |\n",
      "+------+--------------------+---+-------------------+\n",
      "only showing top 20 rows\n",
      "\n"
     ]
    }
   ],
   "source": [
    "aux = (train_df.select('device', 'is_attributed')\n",
    "               .groupBy('device')\n",
    "               .pivot('is_attributed')\n",
    "               .count())\n",
    "\n",
    "aux = (aux.withColumn('prcnt_0', F.when(~F.isnull('0') & ~F.isnull('1'), (aux['0'] / (aux['0'] + aux['1'])) * 100).otherwise(None))\n",
    "          .withColumn('prcnt_1', F.when(~F.isnull('0') & ~F.isnull('1'), (aux['1'] / (aux['0'] + aux['1'])) * 100).otherwise(None))\n",
    "          .na.fill(0)\n",
    "          .select('device', 'prcnt_1', '1')\n",
    "          .withColumn('prcnt_1', F.col('prcnt_1') / 100)\n",
    "          .withColumn('custom_score', F.col('1') * F.col('prcnt_1'))\n",
    "      )\n",
    "\n",
    "# Quizás sería interesante usar broadcast join\n",
    "train_df = aux.join(train_df, ['device'], 'inner')\n",
    "\n",
    "# aux.persist(pyspark.StorageLevel.MEMORY_AND_DISK_SER)\n",
    "\n",
    "# aux.show(truncate = False)"
   ]
  },
  {
   "cell_type": "code",
   "execution_count": 20,
   "metadata": {},
   "outputs": [
    {
     "data": {
      "text/plain": [
       "DataFrame[device: int, prcnt_1: double, 1: bigint, custom_score: double]"
      ]
     },
     "execution_count": 20,
     "metadata": {},
     "output_type": "execute_result"
    }
   ],
   "source": [
    "# aux.unpersist()"
   ]
  },
  {
   "cell_type": "code",
   "execution_count": 6,
   "metadata": {},
   "outputs": [
    {
     "name": "stdout",
     "output_type": "stream",
     "text": [
      "+---+---------------------+---+------------------+\n",
      "|os |prcnt_1              |1  |custom_score      |\n",
      "+---+---------------------+---+------------------+\n",
      "|833|0.0                  |0  |0.0               |\n",
      "|463|0.0                  |0  |0.0               |\n",
      "|496|0.0                  |0  |0.0               |\n",
      "|471|0.0                  |0  |0.0               |\n",
      "|148|0.0                  |0  |0.0               |\n",
      "|392|0.0                  |0  |0.0               |\n",
      "|858|0.0                  |0  |0.0               |\n",
      "|897|0.0                  |0  |0.0               |\n",
      "|623|0.0                  |0  |0.0               |\n",
      "|737|0.0                  |0  |0.0               |\n",
      "|243|0.0                  |0  |0.0               |\n",
      "|31 |0.0012435508721801768|954|1.1863475320598886|\n",
      "|808|0.0                  |0  |0.0               |\n",
      "|137|0.0                  |0  |0.0               |\n",
      "|451|0.0                  |0  |0.0               |\n",
      "|251|0.0                  |0  |0.0               |\n",
      "|85 |0.0                  |0  |0.0               |\n",
      "|65 |0.0                  |0  |0.0               |\n",
      "|883|0.0                  |0  |0.0               |\n",
      "|879|0.0                  |0  |0.0               |\n",
      "+---+---------------------+---+------------------+\n",
      "only showing top 20 rows\n",
      "\n"
     ]
    }
   ],
   "source": [
    "aux = (train_df.select('os', 'is_attributed')\n",
    "               .groupBy('os')\n",
    "               .pivot('is_attributed')\n",
    "               .count())\n",
    "\n",
    "aux = (aux.withColumn('prcnt_0', F.when(~F.isnull('0') & ~F.isnull('1'), (aux['0'] / (aux['0'] + aux['1'])) * 100).otherwise(None))\n",
    "          .withColumn('prcnt_1', F.when(~F.isnull('0') & ~F.isnull('1'), (aux['1'] / (aux['0'] + aux['1'])) * 100).otherwise(None))\n",
    "          .na.fill(0)\n",
    "          .select('os', 'prcnt_1', '1')\n",
    "          .withColumn('prcnt_1', F.col('prcnt_1') / 100)\n",
    "          .withColumn('custom_score', F.col('1') * F.col('prcnt_1'))\n",
    "      )\n",
    "\n",
    "# Quizás sería interesante usar broadcast join\n",
    "train_df = aux.join(train_df, ['os'], 'inner')\n",
    "\n",
    "# aux.persist(pyspark.StorageLevel.MEMORY_AND_DISK_SER)\n",
    "\n",
    "# aux.show(truncate = False)"
   ]
  },
  {
   "cell_type": "code",
   "execution_count": 21,
   "metadata": {},
   "outputs": [
    {
     "data": {
      "text/plain": [
       "DataFrame[device: int, prcnt_1: double, 1: bigint, custom_score: double]"
      ]
     },
     "execution_count": 21,
     "metadata": {},
     "output_type": "execute_result"
    }
   ],
   "source": [
    "# aux.unpersist()"
   ]
  },
  {
   "cell_type": "markdown",
   "metadata": {},
   "source": [
    "Lo mismo para app y channel"
   ]
  },
  {
   "cell_type": "code",
   "execution_count": 53,
   "metadata": {},
   "outputs": [
    {
     "name": "stdout",
     "output_type": "stream",
     "text": [
      "+---+--------------------+---+-------------------+\n",
      "|app|prcnt_1             |1  |custom_score       |\n",
      "+---+--------------------+---+-------------------+\n",
      "|463|0.0                 |0  |0.0                |\n",
      "|148|0.1561518008218516  |646|100.87406333091613 |\n",
      "|496|0.0                 |0  |0.0                |\n",
      "|471|0.0                 |0  |0.0                |\n",
      "|392|0.16666666666666663 |1  |0.16666666666666663|\n",
      "|737|0.0                 |0  |0.0                |\n",
      "|243|0.0                 |0  |0.0                |\n",
      "|540|0.0                 |0  |0.0                |\n",
      "|623|0.0                 |0  |0.0                |\n",
      "|31 |0.006543723973825104|22 |0.1439619274241523 |\n",
      "|580|0.0                 |0  |0.0                |\n",
      "|251|0.03823529411764706 |13 |0.4970588235294118 |\n",
      "|85 |0.0                 |0  |0.0                |\n",
      "|137|0.0                 |0  |0.0                |\n",
      "|65 |0.003867946934482408|114|0.4409459505309945 |\n",
      "|458|0.0                 |0  |0.0                |\n",
      "|481|0.09377559377559377 |229|21.474610974610975 |\n",
      "|588|0.0                 |0  |0.0                |\n",
      "|255|0.25                |14 |3.5                |\n",
      "|53 |0.0                 |0  |0.0                |\n",
      "+---+--------------------+---+-------------------+\n",
      "only showing top 20 rows\n",
      "\n"
     ]
    }
   ],
   "source": [
    "aux = (train_df.select('app', 'is_attributed')\n",
    "               .groupBy('app')\n",
    "               .pivot('is_attributed')\n",
    "               .count())\n",
    "\n",
    "aux = (aux.withColumn('prcnt_0', F.when(~F.isnull('0') & ~F.isnull('1'), (aux['0'] / (aux['0'] + aux['1'])) * 100).otherwise(None))\n",
    "          .withColumn('prcnt_1', F.when(~F.isnull('0') & ~F.isnull('1'), (aux['1'] / (aux['0'] + aux['1'])) * 100).otherwise(None))\n",
    "          .na.fill(0)\n",
    "          .select('app', 'prcnt_1', '1')\n",
    "          .withColumn('prcnt_1', F.col('prcnt_1') / 100)\n",
    "          .withColumn('custom_score', F.col('1') * F.col('prcnt_1'))\n",
    "      )\n",
    "\n",
    "# Quizás sería interesante usar broadcast join\n",
    "train_df = aux.join(train_df, ['app'], 'inner')\n",
    "\n",
    "# aux.persist(pyspark.StorageLevel.MEMORY_AND_DISK_SER)\n",
    "\n",
    "# aux.show(truncate = False)"
   ]
  },
  {
   "cell_type": "code",
   "execution_count": 49,
   "metadata": {},
   "outputs": [
    {
     "data": {
      "text/plain": [
       "DataFrame[app: int, prcnt_1: double, 1: bigint, custom_score: double]"
      ]
     },
     "execution_count": 49,
     "metadata": {},
     "output_type": "execute_result"
    }
   ],
   "source": [
    "# aux.unpersist()"
   ]
  },
  {
   "cell_type": "code",
   "execution_count": 55,
   "metadata": {},
   "outputs": [
    {
     "name": "stdout",
     "output_type": "stream",
     "text": [
      "+-------+---------------------+-----+--------------------+\n",
      "|channel|prcnt_1              |1    |custom_score        |\n",
      "+-------+---------------------+-----+--------------------+\n",
      "|496    |2.0092586639233588E-4|25   |0.005023146659808397|\n",
      "|463    |2.4396038931835342E-4|230  |0.056110889543221285|\n",
      "|471    |0.0                  |0    |0.0                 |\n",
      "|243    |0.012761782632542547 |4956 |63.24739472688086   |\n",
      "|251    |0.2857142857142857   |4    |1.1428571428571428  |\n",
      "|451    |0.12703190848886214  |422  |53.60746538229982   |\n",
      "|137    |3.036073241032074E-4 |699  |0.21222151954814197 |\n",
      "|458    |0.0625               |1    |0.0625              |\n",
      "|481    |6.549914121901325E-4 |503  |0.3294606803316366  |\n",
      "|322    |5.957818644000477E-5 |3    |1.787345593200143E-4|\n",
      "|108    |0.017480166733898076 |130  |2.27242167540675    |\n",
      "|211    |3.3847754733366727E-4|350  |0.11846714156678355 |\n",
      "|101    |0.015451006765171338 |33176|512.6026004413243   |\n",
      "|126    |0.0013759119416357354|43   |0.05916421349033662 |\n",
      "|115    |1.4156694382970363E-4|196  |0.02774712099062191 |\n",
      "|210    |0.05265426897376105  |2687 |141.48202073249593  |\n",
      "|497    |1.732138656630242E-4 |81   |0.01403032311870496 |\n",
      "|406    |7.888820226935061E-4 |120  |0.09466584272322073 |\n",
      "|412    |2.528283217661775E-4 |162  |0.04095818812612075 |\n",
      "|332    |0.14277832947147742  |1294 |184.7551583360918   |\n",
      "+-------+---------------------+-----+--------------------+\n",
      "only showing top 20 rows\n",
      "\n"
     ]
    }
   ],
   "source": [
    "aux = (train_df.select('channel', 'is_attributed')\n",
    "               .groupBy('channel')\n",
    "               .pivot('is_attributed')\n",
    "               .count())\n",
    "\n",
    "aux = (aux.withColumn('prcnt_0', F.when(~F.isnull('0') & ~F.isnull('1'), (aux['0'] / (aux['0'] + aux['1'])) * 100).otherwise(None))\n",
    "          .withColumn('prcnt_1', F.when(~F.isnull('0') & ~F.isnull('1'), (aux['1'] / (aux['0'] + aux['1'])) * 100).otherwise(None))\n",
    "          .na.fill(0)\n",
    "          .select('channel', 'prcnt_1', '1')\n",
    "          .withColumn('prcnt_1', F.col('prcnt_1') / 100)\n",
    "          .withColumn('custom_score', F.col('1') * F.col('prcnt_1'))\n",
    "      )\n",
    "\n",
    "# Quizás sería interesante usar broadcast join\n",
    "train_df = aux.join(train_df, ['channel'], 'inner')\n",
    "\n",
    "# aux.persist(pyspark.StorageLevel.MEMORY_AND_DISK_SER)\n",
    "\n",
    "# aux.show(truncate = False)"
   ]
  },
  {
   "cell_type": "code",
   "execution_count": 57,
   "metadata": {},
   "outputs": [
    {
     "data": {
      "text/plain": [
       "DataFrame[channel: int, prcnt_1: double, 1: bigint, custom_score: double]"
      ]
     },
     "execution_count": 57,
     "metadata": {},
     "output_type": "execute_result"
    }
   ],
   "source": [
    "# aux.unpersist()"
   ]
  },
  {
   "cell_type": "markdown",
   "metadata": {},
   "source": [
    "Parar SparkContext"
   ]
  },
  {
   "cell_type": "code",
   "execution_count": 14,
   "metadata": {},
   "outputs": [],
   "source": [
    "sc.stop()"
   ]
  }
 ],
 "metadata": {
  "kernelspec": {
   "display_name": "Python [intro]",
   "language": "python",
   "name": "Python [intro]"
  },
  "language_info": {
   "codemirror_mode": {
    "name": "ipython",
    "version": 3
   },
   "file_extension": ".py",
   "mimetype": "text/x-python",
   "name": "python",
   "nbconvert_exporter": "python",
   "pygments_lexer": "ipython3",
   "version": "3.5.4"
  }
 },
 "nbformat": 4,
 "nbformat_minor": 2
}
